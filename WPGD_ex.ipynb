{
 "cells": [
  {
   "cell_type": "code",
   "execution_count": 13,
   "metadata": {},
   "outputs": [],
   "source": [
    "import numpy as np\n",
    "import matplotlib.pyplot as plt"
   ]
  },
  {
   "cell_type": "markdown",
   "metadata": {},
   "source": [
    "We are going to minimize the function\n",
    "\\begin{align}\n",
    "    \\mathcal{G}(\\mu) = \\mathcal{E}_F(\\mu) + \\int\\log(\\mu(x))d\\mu(x).\n",
    "\\end{align}\n",
    "If we define\n",
    "$$\n",
    "F(x) = 0.5|x|^2\n",
    "$$\n",
    "and\n",
    "$$\n",
    "H(\\mu) = \\int\\log(\\mu(x))d\\mu(x)\n",
    "$$\n",
    "then note that we are going to minimize $\\mathcal{G}$ which is merely an integral over a quadratic function according to the measure $\\mu$, regularized by negative entropy. We want to find the measure that minimizes this value. In our case specifically, this minimization amounts to minimizing the KL divergence, i.e., $\\mathcal{G}(\\mu)$ is the KL divergence between $\\mu$ and $\\mu_*$ where $\\mu_*$ is standard Gaussian distribution. The idea is that we want to iteratively update the measure $\\mu_n$ according to the proximal-gradient update scheme\n",
    "\\begin{align}\n",
    "    \\nu_{n+1} &= (I - \\gamma\\nabla F)_{\\#}\\mu_n\\\\\n",
    "    \\mu_{n+1} &\\in \\mathrm{JKO}_{\\gamma H}(\\nu_{n+1}).\n",
    "\\end{align}\n",
    "The idea is that as $n\\to\\infty$, we have that $\\mu_n \\to \\mu_*$. The authors give convergence guarantees and convergence rates which we're not going to look at here. But, in our specific example, we know that this update scheme is equivalent to\n",
    "\\begin{align}\n",
    "    m_{k+1} &= m + (I-\\gamma\\Sigma^{-1})(m_k - m)\\\\\n",
    "    \\Sigma_{k+1}(I - \\gamma\\Sigma_{k+1}^{-1})^2 &= \\Sigma_k (I-\\gamma\\Sigma^{-1}),\n",
    "\\end{align}\n",
    "where $m$ represents the mean and $\\Sigma$ represents the variance (covariance matrix specifically of the iterative distribution). We may use this update structure directly on the mean and variance since every iterative distributional update $\\mu_n$ is Gaussian necessarily and because we have a closed form for the $\\mathrm{JKO}$ operator. So, in our example, we resort to 1D optimal transport through these iterative updates (which we may perform specifically on just the mean and variance through these updates), we have $m_* = 0$ and $\\sigma_* = 1$, and initialize with $m_0 = 10$ and $\\sigma_0 = 100$. At every step, we also have a closed form expression for the Wasserstein-2 distance $W^2 (\\mu_n, \\mu_*) = m_{n}^2 + (1 - \\sqrt{\\sigma_n})^2$. We now code all of this up."
   ]
  },
  {
   "cell_type": "code",
   "execution_count": 25,
   "metadata": {},
   "outputs": [],
   "source": [
    "# Initialize model parameters (mean and variance) according to explanation above; also parameters of distribution we're trying to match\n",
    "m0 = 10\n",
    "s0 = 100\n",
    "msg = 0\n",
    "ssg = 1\n",
    "gamma = 0.05 # -> This is just the \"step size\" in the proximal step\n",
    "d = 20000 # how many particles we have at each step\n",
    "\n",
    "# Create lamda function of Wasserstein-2 distance\n",
    "Wass = lambda m,s: m**2 + (1 - np.sqrt(s))**2\n",
    "\n",
    "# Initializing arrays that will keep updates of means and variances\n",
    "n = 100\n",
    "ms = np.zeros(n+1)\n",
    "ss = np.zeros(n+1)\n",
    "Ws = np.zeros(n+1)\n",
    "particles = []\n",
    "particles.append(np.random.normal(m0,s0,d))\n",
    "\n",
    "# Assigning variables to first iterate of arrays\n",
    "ms[0] = m0\n",
    "ss[0] = s0\n",
    "Ws[0] = Wass(m0,s0)\n",
    "\n",
    "# Set iterative updates\n",
    "mi = m0\n",
    "si = s0\n",
    "for i in range(1,n+1):\n",
    "    # First, we compute the iterative update for the mean\n",
    "    mi = msg + (1-gamma/ssg)*(mi-msg)\n",
    "    ms[i] = mi\n",
    "\n",
    "    # Next, we compute the iterative update for the variance, which is just a bit more convoluted\n",
    "    C = si * (1-gamma)**2\n",
    "    Delta = (C + 2*gamma)**2 - 4*gamma**2\n",
    "    si = 0.5*(C + 2*gamma + np.sqrt(Delta))\n",
    "    ss[i] = si\n",
    "\n",
    "    #Last, we compute the Wasserstein-2 distance\n",
    "    Ws[i] = Wass(mi,si)\n",
    "\n",
    "    #Append to particles list\n",
    "    particles.append(np.random.normal(mi,si,d))"
   ]
  },
  {
   "cell_type": "code",
   "execution_count": 26,
   "metadata": {},
   "outputs": [],
   "source": [
    "normal = lambda x,m,s: (1/(np.sqrt(2*np.pi*s**2)))*(np.exp(-0.5*(x-m)**2/(s**2)))"
   ]
  },
  {
   "cell_type": "markdown",
   "metadata": {},
   "source": [
    "\\begin{align}\n",
    "    p(x) = \\frac{1}{\\sqrt{2\\pi\\sigma^2}}e^{-\\frac{1}{2\\sigma^2}(x-\\mu)^2}\n",
    "\\end{align}"
   ]
  },
  {
   "cell_type": "code",
   "execution_count": 27,
   "metadata": {},
   "outputs": [
    {
     "data": {
      "text/plain": [
       "<matplotlib.legend.Legend at 0x7fefea44c490>"
      ]
     },
     "execution_count": 27,
     "metadata": {},
     "output_type": "execute_result"
    },
    {
     "data": {
      "image/png": "[encoded data removed]",
      "text/plain": [
       "<Figure size 432x288 with 1 Axes>"
      ]
     },
     "metadata": {
      "needs_background": "light"
     },
     "output_type": "display_data"
    }
   ],
   "source": [
    "xs = np.arange(np.ceil(np.min(particles[0])),np.ceil(np.max(particles[0])),step=0.1)\n",
    "plt.hist(particles[0],bins=50,density=True)\n",
    "normies = [normal(x,ms[0],ss[0]) for x in xs]\n",
    "normies_std = [normal(x,0,1) for x in xs]\n",
    "plt.plot(xs,normies,label=\"$\\mu_n$\")\n",
    "plt.plot(xs,normies_std,label=\"Std G\")\n",
    "plt.title(\"Histogram of particles at iteration n = \" + str(0))\n",
    "plt.ylabel(\"Frequency (normalized)\")\n",
    "plt.xlabel(\"Samples\")\n",
    "plt.legend()"
   ]
  },
  {
   "cell_type": "code",
   "execution_count": 28,
   "metadata": {},
   "outputs": [],
   "source": [
    "for i in range(n):\n",
    "    plt.figure()\n",
    "    xs = np.arange(np.minimum(np.ceil(np.min(particles[i])),-7),np.maximum(np.ceil(np.max(particles[i])),7),step=0.1)\n",
    "    plt.hist(particles[i],bins=50,density=True)\n",
    "    normies = [normal(x,ms[i],ss[i]) for x in xs]\n",
    "    normies_std = [normal(x,0,1) for x in xs]\n",
    "    plt.plot(xs,normies,label=\"$\\mu_n$\")\n",
    "    plt.plot(xs,normies_std,label=\"Std G\")\n",
    "    plt.title(\"Histogram of particles at iteration n = \" + str(i))\n",
    "    plt.ylabel(\"Frequency (normalized)\")\n",
    "    plt.xlabel(\"Samples\")\n",
    "    plt.legend()\n",
    "    plt.savefig(\"steps/iter_\" + str(i+1) + \".png\")\n",
    "    plt.close()"
   ]
  },
  {
   "cell_type": "code",
   "execution_count": 29,
   "metadata": {},
   "outputs": [],
   "source": [
    "import glob\n",
    "files = glob.glob(r\"steps/*.png\")"
   ]
  },
  {
   "cell_type": "code",
   "execution_count": 30,
   "metadata": {},
   "outputs": [],
   "source": [
    "# Define a custom key function to extract the iteration number from each filename\n",
    "def get_iteration_number(filename):\n",
    "    return int(filename.split('_')[-1].split('.')[0])\n",
    "\n",
    "# Sort the list of filenames using the custom key function\n",
    "sorted_filenames = sorted(files, key=get_iteration_number)"
   ]
  },
  {
   "cell_type": "code",
   "execution_count": 31,
   "metadata": {},
   "outputs": [],
   "source": [
    "from PIL import Image"
   ]
  },
  {
   "cell_type": "code",
   "execution_count": 32,
   "metadata": {},
   "outputs": [
    {
     "name": "stderr",
     "output_type": "stream",
     "text": [
      "<ipython-input-32-54ab9c92397c>:7: FutureWarning: The input object of type 'PngImageFile' is an array-like implementing one of the corresponding protocols (`__array__`, `__array_interface__` or `__array_struct__`); but not a sequence (or 0-D). In the future, this object will be coerced as if it was first converted using `np.array(obj)`. To retain the old behaviour, you have to either modify the type 'PngImageFile', or assign to an empty array created with `np.empty(correct_shape, dtype=object)`.\n",
      "  print('image_arrays shape:', np.array(image_array).shape)\n"
     ]
    },
    {
     "name": "stdout",
     "output_type": "stream",
     "text": [
      "image_arrays shape: (101,)\n"
     ]
    },
    {
     "name": "stderr",
     "output_type": "stream",
     "text": [
      "<ipython-input-32-54ab9c92397c>:7: VisibleDeprecationWarning: Creating an ndarray from ragged nested sequences (which is a list-or-tuple of lists-or-tuples-or ndarrays with different lengths or shapes) is deprecated. If you meant to do this, you must specify 'dtype=object' when creating the ndarray.\n",
      "  print('image_arrays shape:', np.array(image_array).shape)\n"
     ]
    }
   ],
   "source": [
    "image_array = []\n",
    "for my_file in sorted_filenames:\n",
    "    \n",
    "    image = Image.open(my_file)\n",
    "    image_array.append(image)\n",
    "\n",
    "print('image_arrays shape:', np.array(image_array).shape)"
   ]
  },
  {
   "cell_type": "code",
   "execution_count": 33,
   "metadata": {},
   "outputs": [
    {
     "data": {
      "image/png": "[encoded data removed]",
      "text/plain": [
       "<Figure size 432x288 with 1 Axes>"
      ]
     },
     "metadata": {
      "needs_background": "light"
     },
     "output_type": "display_data"
    }
   ],
   "source": [
    "import matplotlib.animation as animation\n",
    "\n",
    "# Create the figure and axes objects\n",
    "fig, ax = plt.subplots()\n",
    "\n",
    "# Set the initial image\n",
    "im = ax.imshow(image_array[0], animated=True)"
   ]
  },
  {
   "cell_type": "code",
   "execution_count": 34,
   "metadata": {},
   "outputs": [],
   "source": [
    "def update(i):\n",
    "    im.set_array(image_array[i])\n",
    "    return im, "
   ]
  },
  {
   "cell_type": "code",
   "execution_count": 35,
   "metadata": {},
   "outputs": [
    {
     "name": "stderr",
     "output_type": "stream",
     "text": [
      "MovieWriter ffmpeg unavailable; using Pillow instead.\n"
     ]
    }
   ],
   "source": [
    "# Create the animation object\n",
    "animation_fig = animation.FuncAnimation(fig, update, frames=len(image_array), interval=200, blit=True,repeat_delay=10,)\n",
    "\n",
    "# Show the animation\n",
    "plt.show()\n",
    "\n",
    "animation_fig.save(\"steps/animated_GMM.gif\")"
   ]
  },
  {
   "cell_type": "code",
   "execution_count": null,
   "metadata": {},
   "outputs": [],
   "source": []
  },
  {
   "cell_type": "code",
   "execution_count": null,
   "metadata": {},
   "outputs": [],
   "source": []
  }
 ],
 "metadata": {
  "kernelspec": {
   "display_name": "Python 3.8.2 64-bit",
   "language": "python",
   "name": "python3"
  },
  "language_info": {
   "codemirror_mode": {
    "name": "ipython",
    "version": 3
   },
   "file_extension": ".py",
   "mimetype": "text/x-python",
   "name": "python",
   "nbconvert_exporter": "python",
   "pygments_lexer": "ipython3",
   "version": "3.8.2"
  },
  "orig_nbformat": 4,
  "vscode": {
   "interpreter": {
    "hash": "aee8b7b246df8f9039afb4144a1f6fd8d2ca17a180786b69acc140d282b71a49"
   }
  }
 },
 "nbformat": 4,
 "nbformat_minor": 2
}
