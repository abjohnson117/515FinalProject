{
 "cells": [
  {
   "cell_type": "code",
   "execution_count": 1,
   "id": "d4deffae",
   "metadata": {},
   "outputs": [],
   "source": [
    "import numpy as np\n",
    "import matplotlib.pyplot as plt\n",
    "import scipy"
   ]
  },
  {
   "cell_type": "markdown",
   "id": "8bf3b1a7",
   "metadata": {},
   "source": [
    "We are going to minimize the function\n",
    "\\begin{align}\n",
    "    \\mathcal{G}(\\mu) = \\mathcal{E}_F(\\mu) + \\int\\log(\\mu(x))d\\mu(x).\n",
    "\\end{align}\n",
    "If we define\n",
    "$$\n",
    "F(x) = 0.5|x|^2\n",
    "$$\n",
    "and\n",
    "$$\n",
    "H(\\mu) = \\int\\log(\\mu(x))d\\mu(x)\n",
    "$$\n",
    "then note that we are going to minimize $\\mathcal{G}$ which is merely an integral over a quadratic function according to the measure $\\mu$, regularized by negative entropy. We want to find the measure that minimizes this value. In our case specifically, this minimization amounts to minimizing the KL divergence, i.e., $\\mathcal{G}(\\mu)$ is the KL divergence between $\\mu$ and $\\mu_*$ where $\\mu_*$ is standard Gaussian distribution. The idea is that we want to iteratively update the measure $\\mu_n$ according to the proximal-gradient update scheme\n",
    "\\begin{align}\n",
    "    \\nu_{n+1} &= (I - \\gamma\\nabla F)_{\\#}\\mu_n\\\\\n",
    "    \\mu_{n+1} &\\in \\mathrm{JKO}_{\\gamma H}(\\nu_{n+1}).\n",
    "\\end{align}\n",
    "The idea is that as $n\\to\\infty$, we have that $\\mu_n \\to \\mu_*$. The authors give convergence guarantees and convergence rates which we're not going to look at here. But, in our specific example, we know that this update scheme is equivalent to\n",
    "\\begin{align}\n",
    "    m_{k+1} &= m + (I-\\gamma\\Sigma^{-1})(m_k - m)\\\\\n",
    "    \\Sigma_{k+1}(I - \\gamma\\Sigma_{k+1}^{-1})^2 &= \\Sigma_k (I-\\gamma\\Sigma^{-1})^2,\n",
    "\\end{align}\n",
    "where $m$ represents the mean and $\\Sigma$ represents the variance (covariance matrix specifically of the iterative distribution). We may use this update structure directly on the mean and variance since every iterative distributional update $\\mu_n$ is Gaussian necessarily and because we have a closed form for the $\\mathrm{JKO}$ operator. So, in our example, we resort to 1D optimal transport through these iterative updates (which we may perform specifically on just the mean and variance through these updates), we have $m_* = 0$ and $\\sigma_* = 1$, and initialize with $m_0 = 10$ and $\\sigma_0 = 100$. At every step, we also have a closed form expression for the Wasserstein-2 distance $W^2 (\\mu_n, \\mu_*) = m_{n}^2 + (1 - \\sqrt{\\sigma_n})^2$. We now code all of this up."
   ]
  },
  {
   "cell_type": "markdown",
   "id": "65979c43",
   "metadata": {},
   "source": [
    "How would we get the covariance matrix at the next time step.\n",
    "\n",
    "$$\n",
    "\\Sigma_{k+1}(I - \\gamma\\Sigma_{k+1}^{-1})^2 = \\Sigma_k (I-\\gamma\\Sigma^{-1})^2 \\Rightarrow \\Sigma_{k+1}^2 - (2\\gamma I +  \\Sigma_k (I-\\gamma\\Sigma^{-1})^2 )\\Sigma_{k+1} + \\gamma^2 I = 0.\n",
    "$$\n",
    "Now call $A = 2\\gamma I +  \\Sigma_k (I-\\gamma\\Sigma^{-1})^2 $, then it comes down to solving \n",
    "$$\n",
    " \\Sigma_{k+1}^2 - A\\Sigma_{k+1} + \\gamma^2 I = 0.\n",
    "$$\n",
    "Say we want to find the elements of $\\Sigma_{k+1}$, this then becomes a nonlinear root finding problem with possibly multiple solutions. Therefore, I'm going to throw Newton's method at it with initial guess $\\Sigma$ (the thing we want to go to) and pray to god. The equations I want to find the root of, are\n",
    "$$\n",
    "\\begin{cases}\n",
    "a^2 + bc - (A_{11} a+ A_{12} c) + \\gamma^2 = 0,\\\\\n",
    "b(a+d) - (A_{11} b+ A_{12} d) = 0,\\\\\n",
    "c(a+d) - (A_{21} a+ A_{22} c) = 0,\\\\\n",
    "d^2 + bc - (A_{21} b + A_{22} d) + \\gamma^2 = 0.\n",
    "\\end{cases}\n",
    "$$\n",
    "\n",
    "Note that the Jacobian is given by\n",
    "$$\n",
    "J = \\begin{bmatrix}\n",
    "2a-A_{11} & c & b- A_{12} & 0\\\\\n",
    "b & a+d-A_{11} & 0 & b-A_{12}\\\\\n",
    "c-A_{21} & 0 & a+d-A_{22} & c\\\\\n",
    "0 & c-A_{21} & b & 2d-A_{22}\n",
    "\\end{bmatrix}.\n",
    "$$\n",
    "Let's implement that."
   ]
  },
  {
   "cell_type": "code",
   "execution_count": 2,
   "id": "4967d52d",
   "metadata": {},
   "outputs": [],
   "source": [
    "normal = lambda x,m,s: (1/(np.sqrt(2*np.pi*s**2)))*(np.exp(-0.5*(x-m)**2/(s**2)))"
   ]
  },
  {
   "cell_type": "code",
   "execution_count": 3,
   "id": "9d389a76",
   "metadata": {},
   "outputs": [],
   "source": [
    "def f(x,g,A):\n",
    "    a, b, c, d = x\n",
    "    f1 =  a ** 2 + b*c - (A[0][0] * a + A[0][1] * c) + g**2\n",
    "    f2 =  b*(a+d) - (A[0][0] * b + A[0][1] * d)\n",
    "    f3 =  c*(a+d) - (A[1][0] * a + A[1][1] * c)\n",
    "    f4 =  d ** 2 + b*c - (A[1][0] * b + A[1][1] * d) + g**2\n",
    "    return np.array([f1,f2,f3,f4])"
   ]
  },
  {
   "cell_type": "code",
   "execution_count": 4,
   "id": "0e727aa4",
   "metadata": {},
   "outputs": [],
   "source": [
    "def df(x,A):\n",
    "        a, b, c, d = x\n",
    "        return np.array([\n",
    "            [2*a - A[0, 0], c, b - A[0, 1], 0],\n",
    "            [b, a + d - A[0, 0], 0, b - A[0, 1]],\n",
    "            [c - A[1, 0], 0, a + d - A[1, 1], c],\n",
    "            [0, c - A[1, 0], b, 2*d - A[1, 1]]\n",
    "        ])"
   ]
  },
  {
   "cell_type": "code",
   "execution_count": 5,
   "id": "8aad4df1",
   "metadata": {},
   "outputs": [],
   "source": [
    "def Newton_meth(S0,A,g, tol=1e-10, max_iter=1000):\n",
    "    \n",
    "    x = np.array([S0[0,0],S0[0,1],S0[1,0],S0[1,1]])\n",
    "    for i in range(max_iter):\n",
    "        fx = f(x,g,A)\n",
    "        if np.linalg.norm(fx) < tol:\n",
    "            return np.array([[x[0],x[1]],[x[2],x[3]]])\n",
    "\n",
    "        dfx = df(x,A)\n",
    "        dx = np.linalg.solve(dfx, -fx)\n",
    "        x = x + dx\n",
    "\n",
    "        if np.linalg.norm(dx) < tol * (1 + np.linalg.norm(x)):\n",
    "            return np.array([[x[0],x[1]],[x[2],x[3]]])\n",
    "        \n",
    "    return np.array([[x[0],x[1]],[x[2],x[3]]])\n",
    "    \n",
    "    \n",
    "    "
   ]
  },
  {
   "cell_type": "code",
   "execution_count": 6,
   "id": "32328824",
   "metadata": {},
   "outputs": [],
   "source": [
    "def ff(x,A,g):\n",
    "    a, b, c, d = x\n",
    "    f1 =  a ** 2 + b*c - (A[0][0] * a + A[0][1] * c) + g**2\n",
    "    f2 =  b*(a+d) - (A[0][0] * b + A[0][1] * d)\n",
    "    f3 =  c*(a+d) - (A[1][0] * a + A[1][1] * c)\n",
    "    f4 =  d ** 2 + b*c - (A[1][0] * b + A[1][1] * d) + g**2\n",
    "    return np.array([f1,f2,f3,f4])"
   ]
  },
  {
   "cell_type": "code",
   "execution_count": 7,
   "id": "9d1daf9a",
   "metadata": {},
   "outputs": [],
   "source": [
    "def fff(x,A,g,I):\n",
    "    X = np.array([[x[0],x[1]],[x[2],x[3]]])\n",
    "    f = X @ X - A @ X + g**2 *  I\n",
    "    return np.array([f1,f2,f3,f4])"
   ]
  },
  {
   "cell_type": "code",
   "execution_count": 8,
   "id": "486f67cc",
   "metadata": {},
   "outputs": [
    {
     "name": "stdout",
     "output_type": "stream",
     "text": [
      "Root: [[-1.18614066 -1.18614066]\n",
      " [ 0.81385934  0.81385934]]\n"
     ]
    }
   ],
   "source": [
    "A = np.array([[1, 2], [3, 4]])\n",
    "gamma = 0\n",
    "initial_guess = np.array([[1, 1],[ 1, 1]])\n",
    "root = Newton_meth(initial_guess, A, gamma)\n",
    "print(\"Root:\", root)"
   ]
  },
  {
   "cell_type": "code",
   "execution_count": 9,
   "id": "ead9af1f",
   "metadata": {},
   "outputs": [],
   "source": [
    "def Generate_random_points(n,mean,cov):\n",
    "    points = []\n",
    "    for i in range(n):\n",
    "        random_vars = np.random.multivariate_normal(mean, cov)\n",
    "        points.append(random_vars)\n",
    "    return np.array(points)"
   ]
  },
  {
   "cell_type": "code",
   "execution_count": 10,
   "id": "72011ea4",
   "metadata": {},
   "outputs": [],
   "source": [
    "# Example usage:\n",
    "n = 100000  # Number of random points\n",
    "mean = [1, 2]  # Mean of the distribution\n",
    "cov = [[1, 0.5], [0.5, 2]]  # Covariance matrix of the distribution\n",
    "random_points = Generate_random_points(n, mean, cov)"
   ]
  },
  {
   "cell_type": "code",
   "execution_count": 11,
   "id": "d3a9aed6",
   "metadata": {},
   "outputs": [
    {
     "data": {
      "image/png": "[encoded data removed]",
      "text/plain": [
       "<Figure size 640x480 with 1 Axes>"
      ]
     },
     "metadata": {},
     "output_type": "display_data"
    }
   ],
   "source": [
    "plt.hist2d(random_points[:,0], random_points[:,1], bins=(100, 100), cmap=plt.cm.jet)\n",
    "plt.show()"
   ]
  },
  {
   "cell_type": "code",
   "execution_count": 12,
   "id": "ee70a6ef",
   "metadata": {},
   "outputs": [],
   "source": [
    "# Initialize model parameters (mean and variance) according to explanation above; also parameters of distribution we're trying to match\n",
    "m0 = np.array([10,-7.5])\n",
    "s0 = np.array([[1, 0.5], [0.5, 2]])  # Covariance matrix of the distribution\n",
    "\n",
    "m = np.array([-1,3])\n",
    "s = np.array([[1, 0], [0, 1]])\n",
    "inv_s = np.array([[s[1,1]/(s[0,0]*s[1,1]-s[0,1]*s[1,0]), -s[0,1]/(s[0,0]*s[1,1]-s[0,1]*s[1,0])], [-s[1,0]/(s[0,0]*s[1,1]-s[0,1]*s[1,0]), s[0,0]/(s[0,0]*s[1,1]-s[0,1]*s[1,0])]])\n",
    "gamma = 0.05 # -> This is just the \"step size\" in the proximal step\n",
    "d = 20000 # how many particles we have at each step\n",
    "\n",
    "# Create lamda function of Wasserstein-2 distance\n",
    "Wass = lambda m,s: m**2 + (1 - np.sqrt(s))**2\n",
    "\n",
    "# Initializing arrays that will keep updates of means and variances\n",
    "n = 100\n",
    "ms = []\n",
    "ss = []\n",
    "particles = Generate_random_points(d, m0, s0)\n",
    "\n",
    "mi = m0\n",
    "si = s0\n",
    "\n",
    "I = np.eye(2)\n",
    "\n",
    "for i in range(1,n+1):\n",
    "    # First, we compute the iterative update for the mean\n",
    "    mi = mi - gamma * (inv_s @ (mi-m))\n",
    "    ms.append(mi)\n",
    "    \n",
    "    A = 2*gamma*I+ si @ ((I - gamma * inv_s) ** 2)\n",
    "    \n",
    "    #si = Newton_meth(s, A, gamma)\n",
    "    \n",
    "    S = np.array([si[0,0],si[0,1],si[1,0],si[1,1]])\n",
    "    gg = lambda x: ff(x,A,gamma)\n",
    "    SI = scipy.optimize.root(gg,S)\n",
    "    si = np.array([[SI.x[0],SI.x[1]],[SI.x[2],SI.x[3]]])\n",
    "    #si = s\n",
    "    inv_si = np.array([[si[1,1]/(si[0,0]*si[1,1]-si[0,1]*si[1,0]), -si[0,1]/(si[0,0]*si[1,1]-si[0,1]*si[1,0])], [-si[1,0]/(si[0,0]*si[1,1]-si[0,1]*si[1,0]), si[0,0]/(si[0,0]*si[1,1]-si[0,1]*si[1,0])]])\n",
    "\n",
    "    \n",
    "    ss.append(si)\n",
    "    \n",
    "    for i1 in range(d):\n",
    "        x = particles[i1,:]\n",
    "        xhalf = x - gamma * (inv_s @ (x-m))\n",
    "        particles[i1,:] = mi + np.linalg.solve(I-gamma * inv_si,xhalf-mi)\n",
    "    \n",
    "    plt.hist2d(particles[:,0],particles[:,1], bins=(100, 100), range = np.array([[-5,12],[-8,7]]), cmap=plt.cm.jet )\n",
    "    plt.xlim(-5,12)\n",
    "    plt.ylim(-8,7)\n",
    "    plt.savefig(f'images/{i:003}', dpi = 100, facecolor = 'white')\n",
    "    plt.close()\n",
    "    \n",
    "    # I use matlab to make the gif since I hate python"
   ]
  },
  {
   "cell_type": "code",
   "execution_count": 13,
   "id": "79bdd211",
   "metadata": {},
   "outputs": [
    {
     "data": {
      "text/plain": [
       "array([[9.99999806e-01, 2.21680846e-05],\n",
       "       [2.21680846e-05, 1.00004414e+00]])"
      ]
     },
     "execution_count": 13,
     "metadata": {},
     "output_type": "execute_result"
    }
   ],
   "source": [
    "si"
   ]
  },
  {
   "cell_type": "code",
   "execution_count": null,
   "id": "1536240a",
   "metadata": {},
   "outputs": [],
   "source": []
  }
 ],
 "metadata": {
  "kernelspec": {
   "display_name": "Python 3 (ipykernel)",
   "language": "python",
   "name": "python3"
  },
  "language_info": {
   "codemirror_mode": {
    "name": "ipython",
    "version": 3
   },
   "file_extension": ".py",
   "mimetype": "text/x-python",
   "name": "python",
   "nbconvert_exporter": "python",
   "pygments_lexer": "ipython3",
   "version": "3.11.5"
  }
 },
 "nbformat": 4,
 "nbformat_minor": 5
}
