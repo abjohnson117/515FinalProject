{
 "cells": [
  {
   "cell_type": "code",
   "execution_count": 1,
   "metadata": {},
   "outputs": [],
   "source": [
    "import numpy as np\n",
    "import matplotlib.pyplot as plt"
   ]
  },
  {
   "cell_type": "code",
   "execution_count": 2,
   "metadata": {},
   "outputs": [],
   "source": [
    "from scipy.optimize import newton"
   ]
  },
  {
   "cell_type": "code",
   "execution_count": 3,
   "metadata": {},
   "outputs": [],
   "source": [
    "# Initialize model parameters (mean and variance) according to explanation above; also parameters of distribution we're trying to match\n",
    "m0 = 0\n",
    "s0 = 1\n",
    "a = 10\n",
    "mt = a\n",
    "st = 1\n",
    "gamma = 0.05 # -> This is just the \"step size\" in the proximal step\n",
    "d = 5000 # how many particles we have at each step\n",
    "\n",
    "# Initializing arrays that will keep updates of means and variances\n",
    "n = 100\n",
    "particles = []\n",
    "old_particles = np.random.normal(m0,s0,d)\n",
    "particles.append(old_particles)\n",
    "\n",
    "# Set iterative updates\n",
    "# x_old = np.ones(d)\n",
    "# f = lambda x: x - (gamma/(1+gamma))*np.tanh(x)*a - ((1-gamma)/(1+gamma))*x_old-(gamma/(1+gamma))*np.tanh(a*x_old)*a - np.sqrt(4*gamma)/(1+gamma)*z\n",
    "for i in range(1,n+1):\n",
    "    tmp_particles = np.zeros(d)\n",
    "    for j in range(0,d):\n",
    "        # Update particles\n",
    "        x_old = old_particles[j]\n",
    "        z = np.random.normal(0,1,1)\n",
    "        f = lambda x: x - (gamma/(1+gamma))*np.tanh(x)*a - ((1-gamma)/(1+gamma))*x_old-(gamma/(1+gamma))*np.tanh(a*x_old)*a - np.sqrt(4*gamma)/(1+gamma)*z\n",
    "        tmp_particles[j] = newton(f, x0=x_old)\n",
    "    particles.append(tmp_particles)\n",
    "    old_particles = tmp_particles    "
   ]
  },
  {
   "cell_type": "code",
   "execution_count": null,
   "metadata": {},
   "outputs": [],
   "source": []
  },
  {
   "cell_type": "code",
   "execution_count": 5,
   "metadata": {},
   "outputs": [],
   "source": [
    "normal = lambda x,m,s: (1/(np.sqrt(2*np.pi*s**2)))*(np.exp(-0.5*(x-m)**2/(s**2)))"
   ]
  },
  {
   "cell_type": "code",
   "execution_count": 6,
   "metadata": {},
   "outputs": [
    {
     "data": {
      "text/plain": [
       "<matplotlib.legend.Legend at 0x7fa4e9728970>"
      ]
     },
     "execution_count": 6,
     "metadata": {},
     "output_type": "execute_result"
    },
    {
     "data": {
      "image/png": "[encoded data removed]",
      "text/plain": [
       "<Figure size 432x288 with 1 Axes>"
      ]
     },
     "metadata": {
      "needs_background": "light"
     },
     "output_type": "display_data"
    }
   ],
   "source": [
    "xs = np.arange(np.floor(np.min(particles[-1])),np.ceil(np.max(particles[-1])),step=0.1)\n",
    "plt.hist(particles[-1],bins=50,density=True)\n",
    "# normies = [normal(x,ms[0],ss[0]) for x in xs]\n",
    "normies_tgt = [0.5*normal(x,-a,1)+0.5*normal(x,a,1) for x in xs]\n",
    "# plt.plot(xs,normies,label=\"$\\mu_n$\")\n",
    "plt.plot(xs,normies_tgt,label=\"Target\")\n",
    "plt.title(\"Histogram of particles at iteration n = \" + str(100))\n",
    "plt.ylabel(\"Frequency (normalized)\")\n",
    "plt.xlabel(\"Samples\")\n",
    "plt.legend()"
   ]
  },
  {
   "cell_type": "code",
   "execution_count": 7,
   "metadata": {},
   "outputs": [],
   "source": [
    "for i in range(n):\n",
    "    plt.figure()\n",
    "    xs = np.arange(np.minimum(np.ceil(np.min(particles[i])),-15),np.maximum(np.ceil(np.max(particles[i])),15),step=0.1)\n",
    "    plt.hist(particles[i],bins=50,density=True)\n",
    "    normies_tgt = [0.5*normal(x,-a,1)+0.5*normal(x,a,1) for x in xs]\n",
    "    plt.plot(xs,normies_tgt,label=\"Target\")\n",
    "    plt.title(\"Histogram of particles at iteration n = \" + str(i))\n",
    "    plt.ylabel(\"Frequency (normalized)\")\n",
    "    plt.xlabel(\"Samples\")\n",
    "    plt.legend()\n",
    "    plt.savefig(\"MixedG/iter_\" + str(i+1) + \".png\")\n",
    "    plt.close()"
   ]
  },
  {
   "cell_type": "code",
   "execution_count": 8,
   "metadata": {},
   "outputs": [],
   "source": [
    "import glob\n",
    "files = glob.glob(r\"MixedG/*.png\")"
   ]
  },
  {
   "cell_type": "code",
   "execution_count": 9,
   "metadata": {},
   "outputs": [],
   "source": [
    "# Define a custom key function to extract the iteration number from each filename\n",
    "def get_iteration_number(filename):\n",
    "    return int(filename.split('_')[-1].split('.')[0])\n",
    "\n",
    "# Sort the list of filenames using the custom key function\n",
    "sorted_filenames = sorted(files, key=get_iteration_number)"
   ]
  },
  {
   "cell_type": "code",
   "execution_count": 10,
   "metadata": {},
   "outputs": [],
   "source": [
    "from PIL import Image"
   ]
  },
  {
   "cell_type": "code",
   "execution_count": 11,
   "metadata": {},
   "outputs": [],
   "source": [
    "# Create a list to store PIL Image objects\n",
    "image_array = []\n",
    "\n",
    "# Load each image and append it to the list\n",
    "for filename in sorted_filenames:\n",
    "    image = Image.open(filename)\n",
    "    image_array.append(image)\n",
    "\n",
    "# Specify the output GIF filename\n",
    "output_gif_filename = \"MixedG/output.gif\"\n",
    "\n",
    "# Save the list of images as a GIF\n",
    "image_array[0].save(\n",
    "    output_gif_filename,\n",
    "    save_all=True,\n",
    "    append_images=image_array[1:],\n",
    "    duration=200,  # Set the duration for each frame in milliseconds\n",
    "    loop=0,  # Set loop to 0 for infinite loop, or any other integer for a finite loop\n",
    ")"
   ]
  },
  {
   "cell_type": "code",
   "execution_count": 15,
   "metadata": {},
   "outputs": [
    {
     "name": "stderr",
     "output_type": "stream",
     "text": [
      "<ipython-input-15-54ab9c92397c>:7: FutureWarning: The input object of type 'PngImageFile' is an array-like implementing one of the corresponding protocols (`__array__`, `__array_interface__` or `__array_struct__`); but not a sequence (or 0-D). In the future, this object will be coerced as if it was first converted using `np.array(obj)`. To retain the old behaviour, you have to either modify the type 'PngImageFile', or assign to an empty array created with `np.empty(correct_shape, dtype=object)`.\n",
      "  print('image_arrays shape:', np.array(image_array).shape)\n"
     ]
    },
    {
     "name": "stdout",
     "output_type": "stream",
     "text": [
      "image_arrays shape: (100,)\n"
     ]
    },
    {
     "name": "stderr",
     "output_type": "stream",
     "text": [
      "<ipython-input-15-54ab9c92397c>:7: VisibleDeprecationWarning: Creating an ndarray from ragged nested sequences (which is a list-or-tuple of lists-or-tuples-or ndarrays with different lengths or shapes) is deprecated. If you meant to do this, you must specify 'dtype=object' when creating the ndarray.\n",
      "  print('image_arrays shape:', np.array(image_array).shape)\n"
     ]
    }
   ],
   "source": [
    "image_array = []\n",
    "for my_file in sorted_filenames:\n",
    "    \n",
    "    image = Image.open(my_file)\n",
    "    image_array.append(image)\n",
    "\n",
    "print('image_arrays shape:', np.array(image_array).shape)"
   ]
  },
  {
   "cell_type": "code",
   "execution_count": 16,
   "metadata": {},
   "outputs": [
    {
     "data": {
      "image/png": "[encoded data removed]",
      "text/plain": [
       "<Figure size 432x288 with 1 Axes>"
      ]
     },
     "metadata": {
      "needs_background": "light"
     },
     "output_type": "display_data"
    }
   ],
   "source": [
    "import matplotlib.animation as animation\n",
    "\n",
    "# Create the figure and axes objects\n",
    "fig, ax = plt.subplots()\n",
    "\n",
    "# Set the initial image\n",
    "im = ax.imshow(image_array[0], animated=True)"
   ]
  },
  {
   "cell_type": "code",
   "execution_count": 17,
   "metadata": {},
   "outputs": [],
   "source": [
    "def update(i):\n",
    "    im.set_array(image_array[i])\n",
    "    return im, "
   ]
  },
  {
   "cell_type": "code",
   "execution_count": 18,
   "metadata": {},
   "outputs": [
    {
     "name": "stderr",
     "output_type": "stream",
     "text": [
      "MovieWriter ffmpeg unavailable; using Pillow instead.\n"
     ]
    }
   ],
   "source": [
    "# Create the animation object\n",
    "animation_fig = animation.FuncAnimation(fig, update, frames=len(image_array), interval=200, blit=True,repeat_delay=10,)\n",
    "\n",
    "# Show the animation\n",
    "plt.show()\n",
    "\n",
    "animation_fig.save(\"MixedG/animated_GMM.gif\")"
   ]
  },
  {
   "cell_type": "markdown",
   "metadata": {},
   "source": [
    "# Notes\n",
    "\n",
    "Can't keep track of moments and variance hence can't compute W dist"
   ]
  }
 ],
 "metadata": {
  "kernelspec": {
   "display_name": "Python 3.8.2 64-bit",
   "language": "python",
   "name": "python3"
  },
  "language_info": {
   "codemirror_mode": {
    "name": "ipython",
    "version": 3
   },
   "file_extension": ".py",
   "mimetype": "text/x-python",
   "name": "python",
   "nbconvert_exporter": "python",
   "pygments_lexer": "ipython3",
   "version": "3.8.2"
  },
  "vscode": {
   "interpreter": {
    "hash": "aee8b7b246df8f9039afb4144a1f6fd8d2ca17a180786b69acc140d282b71a49"
   }
  }
 },
 "nbformat": 4,
 "nbformat_minor": 2
}
